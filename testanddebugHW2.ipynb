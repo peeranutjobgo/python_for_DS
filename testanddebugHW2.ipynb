{
 "cells": [
  {
   "cell_type": "code",
   "execution_count": 13,
   "metadata": {},
   "outputs": [],
   "source": [
    "import pandas as pd\n",
    "import numpy as np\n",
    "import pandas as pd\n",
    "from IPython.display import display\n",
    " #import csv to dataframe\n",
    "df_app = pd.read_csv('application.csv', index_col=None)\n",
    "df_career = pd.read_csv('final_career.csv', index_col=None)\n",
    "df_user = pd.read_csv('final_user.csv', index_col=None)\n",
    "pd.options.display.max_columns = None"
   ]
  },
  {
   "cell_type": "code",
   "execution_count": 14,
   "metadata": {},
   "outputs": [
    {
     "name": "stdout",
     "output_type": "stream",
     "text": [
      "tlifxqsNyCzxIJnRwtQKuZToQQw=    6311\n",
      "zJLATnalgSeCdaIpNWnHp8OcVow=      10\n",
      "/BEMHNh93hJurZD8gQYDjXDVoI0=       9\n",
      "Rpr/QVfVAyx5xAYJHcRXggJ7Hvs=       9\n",
      "a2a42fp1DBnVO5kwFNOhdMteduQ=       9\n",
      "Bab0Mrp75CkxN7DN0+aWjJWhnmM=       9\n",
      "09yf2kYIhnsEAT5Lk4IHkEFjSLM=       9\n",
      "1hLEH0tlghozUcoxHKk9zp8fBns=       9\n",
      "3+WPRA5G4LDtot0+btAbh843p2c=       9\n",
      "Y7MpOJ7x7nUoDbkj/wWZqq5sstU=       9\n",
      "2C4qUF9f1KTqBPjzfM/PWe1R2dE=       9\n",
      "EZyQz020sFexoDefqbNvPeZDtZU=       9\n",
      "cHjtrFDBSAJzdUub0YDxnAQIp+Q=       9\n",
      "OsMrRzv8XTBAL7Uo09b6SLtcPi0=       9\n",
      "RTdIrJn0lL1f0P/7jwW8wIfSmP4=       9\n",
      "H1gYiDnjFDbygIlpGlNykKy5EKM=       8\n",
      "kpYFdFgAbDG9siIKVtO42l1ZMRY=       8\n",
      "+FZnmugc4IjhIycSnNpcCPBjjik=       8\n",
      "dgkoLus+FK/VyQcGIpxfCSkCGgM=       8\n",
      "R3iwgMS5vPAajesoBybwDVXhnnc=       8\n",
      "90v02C09I8IezMWOsHII1Iu9a3E=       8\n",
      "Pga2MUy+U+RhTGmGVibl3tvGuvQ=       8\n",
      "Qr+o8GijIMOuno9xgZPXhJzGCGw=       8\n",
      "ex/WFBTgBJtLfKKkzQbT/GlEEa8=       8\n",
      "cr7jQQ/J9Wrue6eQ1iBqctY/pW0=       8\n",
      "P13ESms43rZSvKA3l/Ht6CMEhqQ=       8\n",
      "SmSuW+1hinR8YwuocfbvQhTgMZc=       8\n",
      "bsasJukMnu3LjMXPVgJAqPXWGHw=       8\n",
      "qjNqpi2ugPJynUCyMbEHd3mvwso=       8\n",
      "Xzn70+vH83hVmSVU6fI/wP7DgzE=       8\n",
      "                                ... \n",
      "Ms8iBYFkn4D28BbN3OMQfhSD3Ws=       1\n",
      "EzSPODU0jtrJ9DZ3enEUx7le8xw=       1\n",
      "prejVLw/Aqc+/TN+zuRgB6u2LqI=       1\n",
      "cC/lCQS/jWT5hPslZI3wTWyAiNE=       1\n",
      "ZHj4yLJNrCnlp4AlyJmZyq5TFg0=       1\n",
      "1vo780Hi74KE6SXe9e3GG9FBvA4=       1\n",
      "EsQ1YPerPfGLZdlpXnushsyS34I=       1\n",
      "DT+sooOXfD/+e7xXBWUPr6xP3jA=       1\n",
      "roAIft1TBBuCw3JbuIV4fZIEq9s=       1\n",
      "EOMZz9RPZ2us7vqIZlTKJo4C04Y=       1\n",
      "Qf6kvQi1oLmq4i6Kvg74jxXaHTs=       1\n",
      "qwY1QPzEtM0opnvw1LUNdu4T/F4=       1\n",
      "s0PhgbSYe0fkHzkFiJbikwLj9fE=       1\n",
      "C9nWNcvIiSBf6VZLTZrkKT4ry4A=       1\n",
      "9yWq71vURzrHZtuUkyAP+gEk/so=       1\n",
      "3G/ui5ijzo+IMt7QWWvu5A1q3V8=       1\n",
      "+vDZDRk6yF8AfzH9qM49PQAOrv4=       1\n",
      "KpJ/MOb8Rt7tmSCxcQrtBdrWhhQ=       1\n",
      "xZa3KGhYL9F/bS78ZzGuXm98fbQ=       1\n",
      "IVZ0DdXq5ChAMvCUN0G5kOFQCKA=       1\n",
      "AlAnBMWF4bK/aUTZpRL9rPM7HHA=       1\n",
      "TXUwYekn4fbXhfOnz3qRsBQEEms=       1\n",
      "rMQyk4HcDTBgXdBimQg6zqU6jTM=       1\n",
      "x88UZWuDarHZVIurql3lz23MtSU=       1\n",
      "m0pXGwZZYih2sKVV0PWexRSvCCQ=       1\n",
      "4OhtjohyxG4FGpeEL3t6pqW47dM=       1\n",
      "vJIz2r9szDfbEfP1Nt2OEQdVuvc=       1\n",
      "tl55t5mMA1ZRJXlGGyXgFA+VQgs=       1\n",
      "x3AoTDCgvdzbI5HMA3t9fFQyi50=       1\n",
      "JmqwgAHqxv+GuNbW3F38B7cX5e4=       1\n",
      "Name: userID, Length: 178204, dtype: int64\n",
      "f3QeMnlgzUrR4qZ/mPTHDLk9rPo=    21\n",
      "w49JfYmdNwdN5E98E1QAVzZCahE=    20\n",
      "xiGlwNZwSmxrq4YfXjWJ4Ewc7Ao=    20\n",
      "bK5gYJ4EmiGKNsotN4Kdfyla6f0=    19\n",
      "N4jaCRSiXy+lg8n3+tI/N6wzNk8=    19\n",
      "VQTI93OYXEkLIUN87YHiF62FbME=    17\n",
      "E4Y5/nEsPuFLz3RHu3XT8xP/8e8=    17\n",
      "fhNUqJvNKhFQpuW7i6SlFCTu0u8=    17\n",
      "NsFziFEsYUXmj+pgvwsMxeConm8=    16\n",
      "rqAUSRo4YjABkkVQHzFuqHoBhB8=    16\n",
      "ASAeozU4fyFsnJGZnem0TmCXNW8=    16\n",
      "3SC5y3yTydVG1Py8rVyfWgcqEgo=    15\n",
      "BVp85kSRL7rOWpBYqlUxokV3Yis=    15\n",
      "DFgRXcNBMuRB2gpsbGaN7SeqHFI=    15\n",
      "juKDXfklJQmFh2Zem0HvHgbwUx0=    15\n",
      "iEfwyqqfm7a20QoccCN99mZchrE=    15\n",
      "bXPnelmcjzsQPnNkax6JvF7k2TA=    14\n",
      "4ep5TD25SlsMzYfLtR4cYUo28vQ=    14\n",
      "69OEBhxzSAhiRMuLbD7vpcNeinE=    14\n",
      "lfYs8DfMmAd2U1ZWOZb/HWc46R0=    14\n",
      "8uNXecRuepO3U718zIWkoh7nfH4=    13\n",
      "upOHFH7hBimt5EHvBzmUYIQPSjI=    13\n",
      "Ll8tr++0Qj2yU3wdTSe4Euvjdc0=    13\n",
      "Af6+XySTq4k3cOgLM3YSAfq9/Uw=    13\n",
      "oZtpY4frMijj8ZdyVCgWbU/LbNs=    13\n",
      "3gkYtCPv1iepjqpZRTa9F6xyFlY=    13\n",
      "T5RIIzXH1HpbwDQHeL+XZQzcJeg=    12\n",
      "bNM5XMQ93uQ5k720XQGH3JnP67k=    12\n",
      "rpQ6Q27g9fSmbu7eEbkWFZqLDKI=    12\n",
      "XIJeLfQskJi+RAaxXeAmq6B9ccc=    12\n",
      "                                ..\n",
      "rR6u4RqjpLu8IZtQICSGrtTgR9Q=     1\n",
      "ApZRSbacrlXUBy4IRAGFg9kghk0=     1\n",
      "rwfGg65rZOe/Ya2IpaY1lqGnQyk=     1\n",
      "8OQqAGOW/QnfKyuGZ/qP1enpmko=     1\n",
      "LsNS5A2gTw8N6tzpHqpJEzxjUpA=     1\n",
      "q6kjEHyqYDQc46fre7q0as04j7A=     1\n",
      "z6OTTKc0T4ugrGd2YF6IzWJlQuA=     1\n",
      "gr0FHuf3wdUFOuQL12YiSGDNgjQ=     1\n",
      "AhEXNT39RIZbdG7pd7+TSyna45A=     1\n",
      "IuHcQAai6J/6PL3g0JcZvDWGJv0=     1\n",
      "CqB2WPNt+UDHNLE9znwv7TH9Cfs=     1\n",
      "BuSls2ELABp5BT8t+ubOcyFAzbU=     1\n",
      "85sIc4+S9QEtrLYwRq0h2qTdYTg=     1\n",
      "UcBzcYP+VhhMabc/NfpZIN6XRxE=     1\n",
      "oM5tHQTmC6MA/KUzXQg1iwXWYd0=     1\n",
      "u2u0f9JPbgqe+z+fSREUMG5unrw=     1\n",
      "r87+/XN9GnNxWgb725DOt4/LKH8=     1\n",
      "3oZ3exXJUm9V+frfftn132BxU9w=     1\n",
      "s0E+PlZO0sYJ79xZTi1H4Mm65bA=     1\n",
      "vjrKYMipleUPGIkS8gUYxKSxq2Q=     1\n",
      "/yaQhzEQQJzKi+RaCBPzd8uEhbE=     1\n",
      "nSTF83RPRbqZMnTMZFTZBb0YiJ0=     1\n",
      "fWOorfUJMtJBpRL9GajnZ9SrlQM=     1\n",
      "5ee2aX/bx9PUIARykLtB2Ed2d+M=     1\n",
      "NlsTlQ3XGXI1ebYXS1nte6RKXEw=     1\n",
      "a/wN7NR4i2Pccnx4fzN6SHn14lY=     1\n",
      "gSkdBfE/+J1JZoqIZ8He7WxzGTo=     1\n",
      "Ir8f8lO+S8FC6AyeFZxc9X8aav4=     1\n",
      "0Ugoov1IDr67g0U7Ngf0oF4lPDE=     1\n",
      "XjRstLZ+KoLLAN/OssDnTRG58sw=     1\n",
      "Name: careerID, Length: 148779, dtype: int64\n",
      "userID                      0\n",
      "salarymin                   0\n",
      "salarymax                   0\n",
      "gender                  14359\n",
      "age                     14354\n",
      "workExpMonth                0\n",
      "userEduLevel                0\n",
      "userEduCategory         24400\n",
      "userLastWorkCategory    25985\n",
      "userLastWorkExpMonth        0\n",
      "province                    0\n",
      "dtype: int64\n",
      "careerID          1\n",
      "careerName        0\n",
      "careerCategory    7\n",
      "careerAddress     0\n",
      "dtype: int64\n"
     ]
    }
   ],
   "source": [
    "print(df_user.userID.value_counts())\n",
    "print(df_career.careerID.value_counts())\n",
    "print(df_user.apply(lambda x: sum(x.isnull())))\n",
    "print(df_career.apply(lambda x: sum(x.isnull())))"
   ]
  },
  {
   "cell_type": "code",
   "execution_count": 24,
   "metadata": {},
   "outputs": [
    {
     "ename": "AttributeError",
     "evalue": "'Series' object has no attribute 'gender'",
     "output_type": "error",
     "traceback": [
      "\u001b[1;31m---------------------------------------------------------------------------\u001b[0m",
      "\u001b[1;31mAttributeError\u001b[0m                            Traceback (most recent call last)",
      "\u001b[1;32m<ipython-input-24-adeb7f836f2b>\u001b[0m in \u001b[0;36m<module>\u001b[1;34m\u001b[0m\n\u001b[1;32m----> 1\u001b[1;33m \u001b[0mdf_user\u001b[0m \u001b[1;33m=\u001b[0m \u001b[0mdf_user\u001b[0m\u001b[1;33m.\u001b[0m\u001b[0mgender\u001b[0m\u001b[1;33m.\u001b[0m\u001b[0mreplace\u001b[0m\u001b[1;33m(\u001b[0m\u001b[0mto_replace\u001b[0m \u001b[1;33m=\u001b[0m\u001b[1;34m\"ช\"\u001b[0m\u001b[1;33m,\u001b[0m \u001b[0mvalue\u001b[0m \u001b[1;33m=\u001b[0m\u001b[1;34m\"Man\"\u001b[0m\u001b[1;33m)\u001b[0m\u001b[1;33m\u001b[0m\u001b[1;33m\u001b[0m\u001b[0m\n\u001b[0m\u001b[0;32m      2\u001b[0m \u001b[0mdf_user\u001b[0m \u001b[1;33m=\u001b[0m \u001b[0mdf_user\u001b[0m\u001b[1;33m.\u001b[0m\u001b[0mgender\u001b[0m\u001b[1;33m.\u001b[0m\u001b[0mreplace\u001b[0m\u001b[1;33m(\u001b[0m\u001b[0mto_replace\u001b[0m \u001b[1;33m=\u001b[0m\u001b[1;34m\"ญ\"\u001b[0m\u001b[1;33m,\u001b[0m \u001b[0mvalue\u001b[0m \u001b[1;33m=\u001b[0m\u001b[1;34m\"Woman\"\u001b[0m\u001b[1;33m)\u001b[0m\u001b[1;33m\u001b[0m\u001b[1;33m\u001b[0m\u001b[0m\n",
      "\u001b[1;32m~\\Anaconda3\\lib\\site-packages\\pandas\\core\\generic.py\u001b[0m in \u001b[0;36m__getattr__\u001b[1;34m(self, name)\u001b[0m\n\u001b[0;32m   5065\u001b[0m             \u001b[1;32mif\u001b[0m \u001b[0mself\u001b[0m\u001b[1;33m.\u001b[0m\u001b[0m_info_axis\u001b[0m\u001b[1;33m.\u001b[0m\u001b[0m_can_hold_identifiers_and_holds_name\u001b[0m\u001b[1;33m(\u001b[0m\u001b[0mname\u001b[0m\u001b[1;33m)\u001b[0m\u001b[1;33m:\u001b[0m\u001b[1;33m\u001b[0m\u001b[1;33m\u001b[0m\u001b[0m\n\u001b[0;32m   5066\u001b[0m                 \u001b[1;32mreturn\u001b[0m \u001b[0mself\u001b[0m\u001b[1;33m[\u001b[0m\u001b[0mname\u001b[0m\u001b[1;33m]\u001b[0m\u001b[1;33m\u001b[0m\u001b[1;33m\u001b[0m\u001b[0m\n\u001b[1;32m-> 5067\u001b[1;33m             \u001b[1;32mreturn\u001b[0m \u001b[0mobject\u001b[0m\u001b[1;33m.\u001b[0m\u001b[0m__getattribute__\u001b[0m\u001b[1;33m(\u001b[0m\u001b[0mself\u001b[0m\u001b[1;33m,\u001b[0m \u001b[0mname\u001b[0m\u001b[1;33m)\u001b[0m\u001b[1;33m\u001b[0m\u001b[1;33m\u001b[0m\u001b[0m\n\u001b[0m\u001b[0;32m   5068\u001b[0m \u001b[1;33m\u001b[0m\u001b[0m\n\u001b[0;32m   5069\u001b[0m     \u001b[1;32mdef\u001b[0m \u001b[0m__setattr__\u001b[0m\u001b[1;33m(\u001b[0m\u001b[0mself\u001b[0m\u001b[1;33m,\u001b[0m \u001b[0mname\u001b[0m\u001b[1;33m,\u001b[0m \u001b[0mvalue\u001b[0m\u001b[1;33m)\u001b[0m\u001b[1;33m:\u001b[0m\u001b[1;33m\u001b[0m\u001b[1;33m\u001b[0m\u001b[0m\n",
      "\u001b[1;31mAttributeError\u001b[0m: 'Series' object has no attribute 'gender'"
     ]
    }
   ],
   "source": [
    "df_user = df_user.gender.replace(to_replace =\"ช\", value =\"Man\") \n",
    "df_user = df_user.gender.replace(to_replace =\"ญ\", value =\"Woman\") \n"
   ]
  },
  {
   "cell_type": "code",
   "execution_count": 11,
   "metadata": {},
   "outputs": [
    {
     "data": {
      "text/plain": [
       "0                  Master\n",
       "1                Bachelor\n",
       "2                Bachelor\n",
       "3                Bachelor\n",
       "4                Bachelor\n",
       "5                Bachelor\n",
       "6                Bachelor\n",
       "7                Bachelor\n",
       "8                Bachelor\n",
       "9                Bachelor\n",
       "10               Bachelor\n",
       "11               Bachelor\n",
       "12               Bachelor\n",
       "13               Bachelor\n",
       "14               Bachelor\n",
       "15               Bachelor\n",
       "16               Bachelor\n",
       "17               Bachelor\n",
       "18               Bachelor\n",
       "19               Bachelor\n",
       "20               Bachelor\n",
       "21               Bachelor\n",
       "22               Bachelor\n",
       "23               Bachelor\n",
       "24               Bachelor\n",
       "25               Bachelor\n",
       "26               Bachelor\n",
       "27               Bachelor\n",
       "28               Bachelor\n",
       "29               Bachelor\n",
       "               ...       \n",
       "310845    High Vocational\n",
       "310846           Bachelor\n",
       "310847           Bachelor\n",
       "310848             Master\n",
       "310849           Bachelor\n",
       "310850             Master\n",
       "310851           Bachelor\n",
       "310852    High Vocational\n",
       "310853           Bachelor\n",
       "310854           Bachelor\n",
       "310855           Bachelor\n",
       "310856           Bachelor\n",
       "310857           Bachelor\n",
       "310858           Bachelor\n",
       "310859             Master\n",
       "310860           Bachelor\n",
       "310861           Bachelor\n",
       "310862    High Vocational\n",
       "310863           Bachelor\n",
       "310864           Bachelor\n",
       "310865           Bachelor\n",
       "310866           Bachelor\n",
       "310867           Bachelor\n",
       "310868    High Vocational\n",
       "310869           Bachelor\n",
       "310870           Bachelor\n",
       "310871           Bachelor\n",
       "310872           Bachelor\n",
       "310873           Bachelor\n",
       "310874           Bachelor\n",
       "Name: userEduLevel, Length: 310875, dtype: object"
      ]
     },
     "execution_count": 11,
     "metadata": {},
     "output_type": "execute_result"
    }
   ],
   "source": [
    "df_user"
   ]
  },
  {
   "cell_type": "code",
   "execution_count": 7,
   "metadata": {},
   "outputs": [
    {
     "ename": "AttributeError",
     "evalue": "'str' object has no attribute 'isnull'",
     "output_type": "error",
     "traceback": [
      "\u001b[1;31m---------------------------------------------------------------------------\u001b[0m",
      "\u001b[1;31mAttributeError\u001b[0m                            Traceback (most recent call last)",
      "\u001b[1;32m<ipython-input-7-0fc6c55043c2>\u001b[0m in \u001b[0;36m<module>\u001b[1;34m\u001b[0m\n\u001b[1;32m----> 1\u001b[1;33m \u001b[0mdf_user\u001b[0m\u001b[1;33m.\u001b[0m\u001b[0mapply\u001b[0m\u001b[1;33m(\u001b[0m\u001b[1;32mlambda\u001b[0m \u001b[0mx\u001b[0m\u001b[1;33m:\u001b[0m \u001b[0msum\u001b[0m\u001b[1;33m(\u001b[0m\u001b[0mx\u001b[0m\u001b[1;33m.\u001b[0m\u001b[0misnull\u001b[0m\u001b[1;33m(\u001b[0m\u001b[1;33m)\u001b[0m\u001b[1;33m)\u001b[0m\u001b[1;33m)\u001b[0m\u001b[1;33m\u001b[0m\u001b[1;33m\u001b[0m\u001b[0m\n\u001b[0m\u001b[0;32m      2\u001b[0m \u001b[0mdf_user\u001b[0m\u001b[1;33m.\u001b[0m\u001b[0mhead\u001b[0m\u001b[1;33m(\u001b[0m\u001b[1;33m)\u001b[0m\u001b[1;33m\u001b[0m\u001b[1;33m\u001b[0m\u001b[0m\n",
      "\u001b[1;32m~\\Anaconda3\\lib\\site-packages\\pandas\\core\\series.py\u001b[0m in \u001b[0;36mapply\u001b[1;34m(self, func, convert_dtype, args, **kwds)\u001b[0m\n\u001b[0;32m   3589\u001b[0m             \u001b[1;32melse\u001b[0m\u001b[1;33m:\u001b[0m\u001b[1;33m\u001b[0m\u001b[1;33m\u001b[0m\u001b[0m\n\u001b[0;32m   3590\u001b[0m                 \u001b[0mvalues\u001b[0m \u001b[1;33m=\u001b[0m \u001b[0mself\u001b[0m\u001b[1;33m.\u001b[0m\u001b[0mastype\u001b[0m\u001b[1;33m(\u001b[0m\u001b[0mobject\u001b[0m\u001b[1;33m)\u001b[0m\u001b[1;33m.\u001b[0m\u001b[0mvalues\u001b[0m\u001b[1;33m\u001b[0m\u001b[1;33m\u001b[0m\u001b[0m\n\u001b[1;32m-> 3591\u001b[1;33m                 \u001b[0mmapped\u001b[0m \u001b[1;33m=\u001b[0m \u001b[0mlib\u001b[0m\u001b[1;33m.\u001b[0m\u001b[0mmap_infer\u001b[0m\u001b[1;33m(\u001b[0m\u001b[0mvalues\u001b[0m\u001b[1;33m,\u001b[0m \u001b[0mf\u001b[0m\u001b[1;33m,\u001b[0m \u001b[0mconvert\u001b[0m\u001b[1;33m=\u001b[0m\u001b[0mconvert_dtype\u001b[0m\u001b[1;33m)\u001b[0m\u001b[1;33m\u001b[0m\u001b[1;33m\u001b[0m\u001b[0m\n\u001b[0m\u001b[0;32m   3592\u001b[0m \u001b[1;33m\u001b[0m\u001b[0m\n\u001b[0;32m   3593\u001b[0m         \u001b[1;32mif\u001b[0m \u001b[0mlen\u001b[0m\u001b[1;33m(\u001b[0m\u001b[0mmapped\u001b[0m\u001b[1;33m)\u001b[0m \u001b[1;32mand\u001b[0m \u001b[0misinstance\u001b[0m\u001b[1;33m(\u001b[0m\u001b[0mmapped\u001b[0m\u001b[1;33m[\u001b[0m\u001b[1;36m0\u001b[0m\u001b[1;33m]\u001b[0m\u001b[1;33m,\u001b[0m \u001b[0mSeries\u001b[0m\u001b[1;33m)\u001b[0m\u001b[1;33m:\u001b[0m\u001b[1;33m\u001b[0m\u001b[1;33m\u001b[0m\u001b[0m\n",
      "\u001b[1;32mpandas/_libs/lib.pyx\u001b[0m in \u001b[0;36mpandas._libs.lib.map_infer\u001b[1;34m()\u001b[0m\n",
      "\u001b[1;32m<ipython-input-7-0fc6c55043c2>\u001b[0m in \u001b[0;36m<lambda>\u001b[1;34m(x)\u001b[0m\n\u001b[1;32m----> 1\u001b[1;33m \u001b[0mdf_user\u001b[0m\u001b[1;33m.\u001b[0m\u001b[0mapply\u001b[0m\u001b[1;33m(\u001b[0m\u001b[1;32mlambda\u001b[0m \u001b[0mx\u001b[0m\u001b[1;33m:\u001b[0m \u001b[0msum\u001b[0m\u001b[1;33m(\u001b[0m\u001b[0mx\u001b[0m\u001b[1;33m.\u001b[0m\u001b[0misnull\u001b[0m\u001b[1;33m(\u001b[0m\u001b[1;33m)\u001b[0m\u001b[1;33m)\u001b[0m\u001b[1;33m)\u001b[0m\u001b[1;33m\u001b[0m\u001b[1;33m\u001b[0m\u001b[0m\n\u001b[0m\u001b[0;32m      2\u001b[0m \u001b[0mdf_user\u001b[0m\u001b[1;33m.\u001b[0m\u001b[0mhead\u001b[0m\u001b[1;33m(\u001b[0m\u001b[1;33m)\u001b[0m\u001b[1;33m\u001b[0m\u001b[1;33m\u001b[0m\u001b[0m\n",
      "\u001b[1;31mAttributeError\u001b[0m: 'str' object has no attribute 'isnull'"
     ]
    }
   ],
   "source": [
    "df_user.apply(lambda x: sum(x.isnull()))\n",
    "\n",
    "df_user.head()"
   ]
  },
  {
   "cell_type": "code",
   "execution_count": 6,
   "metadata": {},
   "outputs": [
    {
     "ename": "AttributeError",
     "evalue": "'Series' object has no attribute 'userEduCategory'",
     "output_type": "error",
     "traceback": [
      "\u001b[1;31m---------------------------------------------------------------------------\u001b[0m",
      "\u001b[1;31mAttributeError\u001b[0m                            Traceback (most recent call last)",
      "\u001b[1;32m<ipython-input-6-459670263c43>\u001b[0m in \u001b[0;36m<module>\u001b[1;34m\u001b[0m\n\u001b[1;32m----> 1\u001b[1;33m \u001b[0mdf_user\u001b[0m \u001b[1;33m=\u001b[0m \u001b[0mdf_user\u001b[0m\u001b[1;33m.\u001b[0m\u001b[0muserEduCategory\u001b[0m\u001b[1;33m.\u001b[0m\u001b[0mfillna\u001b[0m\u001b[1;33m(\u001b[0m\u001b[1;34m'nomajorEduCategory'\u001b[0m\u001b[1;33m)\u001b[0m\u001b[1;33m\u001b[0m\u001b[1;33m\u001b[0m\u001b[0m\n\u001b[0m\u001b[0;32m      2\u001b[0m \u001b[0mdf_user\u001b[0m \u001b[1;33m=\u001b[0m \u001b[0mdf_user\u001b[0m\u001b[1;33m.\u001b[0m\u001b[0muserLastWorkCategory\u001b[0m\u001b[1;33m.\u001b[0m\u001b[0mfillna\u001b[0m\u001b[1;33m(\u001b[0m\u001b[1;34m'noLastWork/newwork'\u001b[0m\u001b[1;33m)\u001b[0m\u001b[1;33m\u001b[0m\u001b[1;33m\u001b[0m\u001b[0m\n\u001b[0;32m      3\u001b[0m \u001b[0mdf_user\u001b[0m \u001b[1;33m=\u001b[0m \u001b[0mdf_user\u001b[0m\u001b[1;33m.\u001b[0m\u001b[0mprovince\u001b[0m\u001b[1;33m.\u001b[0m\u001b[0mfillna\u001b[0m\u001b[1;33m(\u001b[0m\u001b[1;34m'unknow'\u001b[0m\u001b[1;33m)\u001b[0m\u001b[1;33m\u001b[0m\u001b[1;33m\u001b[0m\u001b[0m\n\u001b[0;32m      4\u001b[0m \u001b[0mdf_user\u001b[0m \u001b[1;33m=\u001b[0m \u001b[0mdf_user\u001b[0m\u001b[1;33m.\u001b[0m\u001b[0mdropna\u001b[0m\u001b[1;33m(\u001b[0m\u001b[0minplace\u001b[0m \u001b[1;33m=\u001b[0m \u001b[1;32mTrue\u001b[0m\u001b[1;33m)\u001b[0m\u001b[1;33m\u001b[0m\u001b[1;33m\u001b[0m\u001b[0m\n",
      "\u001b[1;32m~\\Anaconda3\\lib\\site-packages\\pandas\\core\\generic.py\u001b[0m in \u001b[0;36m__getattr__\u001b[1;34m(self, name)\u001b[0m\n\u001b[0;32m   5065\u001b[0m             \u001b[1;32mif\u001b[0m \u001b[0mself\u001b[0m\u001b[1;33m.\u001b[0m\u001b[0m_info_axis\u001b[0m\u001b[1;33m.\u001b[0m\u001b[0m_can_hold_identifiers_and_holds_name\u001b[0m\u001b[1;33m(\u001b[0m\u001b[0mname\u001b[0m\u001b[1;33m)\u001b[0m\u001b[1;33m:\u001b[0m\u001b[1;33m\u001b[0m\u001b[1;33m\u001b[0m\u001b[0m\n\u001b[0;32m   5066\u001b[0m                 \u001b[1;32mreturn\u001b[0m \u001b[0mself\u001b[0m\u001b[1;33m[\u001b[0m\u001b[0mname\u001b[0m\u001b[1;33m]\u001b[0m\u001b[1;33m\u001b[0m\u001b[1;33m\u001b[0m\u001b[0m\n\u001b[1;32m-> 5067\u001b[1;33m             \u001b[1;32mreturn\u001b[0m \u001b[0mobject\u001b[0m\u001b[1;33m.\u001b[0m\u001b[0m__getattribute__\u001b[0m\u001b[1;33m(\u001b[0m\u001b[0mself\u001b[0m\u001b[1;33m,\u001b[0m \u001b[0mname\u001b[0m\u001b[1;33m)\u001b[0m\u001b[1;33m\u001b[0m\u001b[1;33m\u001b[0m\u001b[0m\n\u001b[0m\u001b[0;32m   5068\u001b[0m \u001b[1;33m\u001b[0m\u001b[0m\n\u001b[0;32m   5069\u001b[0m     \u001b[1;32mdef\u001b[0m \u001b[0m__setattr__\u001b[0m\u001b[1;33m(\u001b[0m\u001b[0mself\u001b[0m\u001b[1;33m,\u001b[0m \u001b[0mname\u001b[0m\u001b[1;33m,\u001b[0m \u001b[0mvalue\u001b[0m\u001b[1;33m)\u001b[0m\u001b[1;33m:\u001b[0m\u001b[1;33m\u001b[0m\u001b[1;33m\u001b[0m\u001b[0m\n",
      "\u001b[1;31mAttributeError\u001b[0m: 'Series' object has no attribute 'userEduCategory'"
     ]
    }
   ],
   "source": [
    "df_user = df_user.userEduCategory.fillna('nomajorEduCategory')\n",
    "df_user = df_user.userLastWorkCategory.fillna('noLastWork/newwork')\n",
    "df_user = df_user.province.fillna('unknow')\n",
    "df_user = df_user.dropna(inplace = True)"
   ]
  },
  {
   "cell_type": "code",
   "execution_count": null,
   "metadata": {},
   "outputs": [],
   "source": [
    "df_user.apply(lambda x: sum(x.isnull()))"
   ]
  },
  {
   "cell_type": "code",
   "execution_count": null,
   "metadata": {},
   "outputs": [],
   "source": [
    "df_career.drop_duplicates(subset =\"careerID\", keep = 'last', inplace = True) \n",
    "df_user.drop_duplicates(subset =\"userID\", keep = 'last', inplace = True)\n",
    "print(df_user.userID.value_counts())\n",
    "print(df_career.careerID.value_counts())"
   ]
  },
  {
   "cell_type": "code",
   "execution_count": null,
   "metadata": {},
   "outputs": [],
   "source": [
    "print(df_user.userID.value_counts())\n",
    "print(df_career.careerID.value_counts())"
   ]
  },
  {
   "cell_type": "code",
   "execution_count": null,
   "metadata": {},
   "outputs": [],
   "source": [
    "df_app2 = pd.merge(df_app, df_career, how=\"outer\",on = ['careerID'])\n",
    "df_app3 = pd.merge(df_app2, df_user, how=\"outer\",on = ['userID'])\n",
    "df_app3.apply(lambda x: sum(x.isnull()))"
   ]
  },
  {
   "cell_type": "code",
   "execution_count": null,
   "metadata": {},
   "outputs": [],
   "source": [
    "df_app3.count()"
   ]
  },
  {
   "cell_type": "code",
   "execution_count": null,
   "metadata": {},
   "outputs": [],
   "source": [
    "df_app3"
   ]
  }
 ],
 "metadata": {
  "kernelspec": {
   "display_name": "Python 3",
   "language": "python",
   "name": "python3"
  },
  "language_info": {
   "codemirror_mode": {
    "name": "ipython",
    "version": 3
   },
   "file_extension": ".py",
   "mimetype": "text/x-python",
   "name": "python",
   "nbconvert_exporter": "python",
   "pygments_lexer": "ipython3",
   "version": "3.7.3"
  }
 },
 "nbformat": 4,
 "nbformat_minor": 2
}
